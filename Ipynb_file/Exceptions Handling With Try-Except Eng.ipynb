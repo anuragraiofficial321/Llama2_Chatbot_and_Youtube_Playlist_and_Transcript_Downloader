{
 "cells": [
  {
   "cell_type": "code",
   "execution_count": 1,
   "id": "d1156e20-547c-4e2d-9c4e-8de6e24186d9",
   "metadata": {},
   "outputs": [
    {
     "name": "stdout",
     "output_type": "stream",
     "text": [
      "Collecting youtube-transcript-api\n",
      "  Obtaining dependency information for youtube-transcript-api from https://files.pythonhosted.org/packages/33/c1/18e32c7cd693802056f385c3ee78825102566be94a811b6556f17783c743/youtube_transcript_api-0.6.1-py3-none-any.whl.metadata\n",
      "  Downloading youtube_transcript_api-0.6.1-py3-none-any.whl.metadata (14 kB)\n",
      "Requirement already satisfied: requests in c:\\users\\raian\\anaconda3\\lib\\site-packages (from youtube-transcript-api) (2.31.0)\n",
      "Requirement already satisfied: charset-normalizer<4,>=2 in c:\\users\\raian\\anaconda3\\lib\\site-packages (from requests->youtube-transcript-api) (2.0.4)\n",
      "Requirement already satisfied: idna<4,>=2.5 in c:\\users\\raian\\anaconda3\\lib\\site-packages (from requests->youtube-transcript-api) (3.4)\n",
      "Requirement already satisfied: urllib3<3,>=1.21.1 in c:\\users\\raian\\anaconda3\\lib\\site-packages (from requests->youtube-transcript-api) (1.26.16)\n",
      "Requirement already satisfied: certifi>=2017.4.17 in c:\\users\\raian\\anaconda3\\lib\\site-packages (from requests->youtube-transcript-api) (2023.7.22)\n",
      "Downloading youtube_transcript_api-0.6.1-py3-none-any.whl (24 kB)\n",
      "Installing collected packages: youtube-transcript-api\n",
      "Successfully installed youtube-transcript-api-0.6.1\n"
     ]
    },
    {
     "name": "stderr",
     "output_type": "stream",
     "text": [
      "WARNING: Skipping C:\\Users\\raian\\anaconda3\\Lib\\site-packages\\pyzmq-25.1.0.dist-info due to invalid metadata entry 'name'\n",
      "WARNING: Skipping C:\\Users\\raian\\anaconda3\\Lib\\site-packages\\pyzmq-25.1.0.dist-info due to invalid metadata entry 'name'\n",
      "WARNING: Skipping C:\\Users\\raian\\anaconda3\\Lib\\site-packages\\pyzmq-25.1.0.dist-info due to invalid metadata entry 'name'\n",
      "WARNING: Skipping C:\\Users\\raian\\anaconda3\\Lib\\site-packages\\pyzmq-25.1.0.dist-info due to invalid metadata entry 'name'\n",
      "WARNING: Skipping C:\\Users\\raian\\anaconda3\\Lib\\site-packages\\pyzmq-25.1.0.dist-info due to invalid metadata entry 'name'\n"
     ]
    }
   ],
   "source": [
    "!pip install youtube-transcript-api"
   ]
  },
  {
   "cell_type": "code",
   "execution_count": null,
   "id": "9a057744",
   "metadata": {},
   "outputs": [],
   "source": [
    "strr='''Could not retrieve a transcript for the video https://www.youtube.com/watch?v=pqTvTQzk6rw! This is most likely caused by:\n",
    "\n",
    "Subtitles are disabled for this video'''\n",
    "print(len(strr))"
   ]
  },
  {
   "cell_type": "code",
   "execution_count": null,
   "id": "064eadf4",
   "metadata": {},
   "outputs": [],
   "source": [
    "https://www.youtube.com/watch?v=HodJLhRV7gY"
   ]
  },
  {
   "cell_type": "code",
   "execution_count": 2,
   "id": "8cba7eca",
   "metadata": {},
   "outputs": [
    {
     "name": "stderr",
     "output_type": "stream",
     "text": [
      "WARNING: Skipping C:\\Users\\raian\\anaconda3\\Lib\\site-packages\\pyzmq-25.1.0.dist-info due to invalid metadata entry 'name'\n",
      "WARNING: Skipping C:\\Users\\raian\\anaconda3\\Lib\\site-packages\\pyzmq-25.1.0.dist-info due to invalid metadata entry 'name'\n",
      "ERROR: Could not find a version that satisfies the requirement urlparse (from versions: none)\n",
      "ERROR: No matching distribution found for urlparse\n",
      "WARNING: Skipping C:\\Users\\raian\\anaconda3\\Lib\\site-packages\\pyzmq-25.1.0.dist-info due to invalid metadata entry 'name'\n"
     ]
    }
   ],
   "source": [
    "!pip install urlparse"
   ]
  },
  {
   "cell_type": "code",
   "execution_count": 4,
   "id": "86ec16f4",
   "metadata": {},
   "outputs": [
    {
     "name": "stdout",
     "output_type": "stream",
     "text": [
      "pqTvTQzk6rw\n"
     ]
    }
   ],
   "source": [
    "import urllib.parse as urlparse\n",
    "\n",
    "url = \"https://www.youtube.com/watch?v=pqTvTQzk6rw\"\n",
    "parsed_url = urlparse.urlparse(url)\n",
    "video_id = urlparse.parse_qs(parsed_url.query)['v'][0]\n",
    "\n",
    "print(video_id)\n",
    "\n"
   ]
  },
  {
   "cell_type": "code",
   "execution_count": 8,
   "id": "f7ba2133",
   "metadata": {},
   "outputs": [
    {
     "name": "stdout",
     "output_type": "stream",
     "text": [
      "pqTvTQzk6rw\n"
     ]
    }
   ],
   "source": [
    "import re\n",
    "\n",
    "url =\"https://www.youtube.com/watch?v=pqTvTQzk6rw\"# \"https://youtu.be/ZC4eWrzxIqw\"\n",
    "try:\n",
    "    video_id = re.search(r\"(?<=youtu.be/)[^&#]+\", url).group(0)\n",
    "except:\n",
    "    parsed_url = urlparse.urlparse(url)\n",
    "    video_id = urlparse.parse_qs(parsed_url.query)['v'][0]\n",
    "\n",
    "print(video_id)\n"
   ]
  },
  {
   "cell_type": "code",
   "execution_count": null,
   "id": "6b9b68a6",
   "metadata": {},
   "outputs": [],
   "source": [
    "ZC4eWrzxIqw\n",
    "https://youtu.be/ZC4eWrzxIqw\n",
    "https://www.youtube.com/watch?v=7VppHj0Rue0\n",
    "https://www.youtube.com/watch?v=pqTvTQzk6rw"
   ]
  },
  {
   "cell_type": "code",
   "execution_count": 2,
   "id": "b900cdd1",
   "metadata": {},
   "outputs": [
    {
     "name": "stdout",
     "output_type": "stream",
     "text": [
      "Strength\n",
      "Leadership\n",
      "Power\n",
      "Authority\n",
      "Guidance\n",
      "Patience\n",
      "are God’s gift to us\n",
      "as men.\n",
      "We have to cherish that,\n",
      "not abuse it.\n",
      "I\n",
      "Prayed this morning\n",
      "to be a better listener.\n",
      "Didn’t work so well.\n",
      "We’re human.\n",
      "You get back up.\n",
      "Yes, I’ve been high up on the mountain.\n",
      "I’ve been blessed,\n",
      "but that’s a slippery slope\n",
      "- Yeah\n",
      "- And it’s lonely up there.\n",
      "You know,\n",
      "people don’t know that side of it.\n",
      "We did not come this far\n",
      "to just break down and lose now.\n",
      "I'm a winner.\n",
      "I'm going to win.\n",
      "True desire in the heart\n",
      "that itch that you have\n",
      "whatever it is you want to do\n",
      "that thing that you want to do\n",
      "to help others\n",
      "and to- to grow and to make money\n",
      "that desire, that itch,\n",
      "that's God's proof to you\n",
      "sent beforehand already\n",
      "to indicate that it's yours.\n",
      "Aspire to make a difference\n",
      "See, you are what you are in this world.\n",
      "That's either one of two things,\n",
      "Either you're somebody,\n",
      "or you're nobody.\n",
      "Never give up.\n",
      "Without commitment\n",
      "you'll never start\n",
      "but more importantly\n",
      "without consistency\n",
      "you'll never finish.\n",
      "It's not easy\n",
      "If it were easy,\n",
      "there’d be no Denzel Washington.\n",
      "So,\n",
      "Keep working.\n",
      "Keep striving.\n",
      "Never give up.\n",
      "Fall down seven times, get up eight.\n",
      "Ease is a greater threat\n",
      "to progress than hardship.\n",
      "So\n",
      "Keep moving, keep growing, keep learning.\n",
      "See you at work.\n",
      "While it may be frightening,\n",
      "it will also be rewarding.\n",
      "So you got to get out there.\n",
      "You got to give it everything you got,\n",
      "whether it’s your time,\n",
      "your talent,\n",
      "your prayers,\n",
      "or your treasures.\n",
      "Because taking risks is not just about\n",
      "going for a job.\n",
      "It’s also about knowing what you know\n",
      "and what you don’t know.\n",
      "It’s about being open to people\n",
      "and to ideas.\n",
      "To get something you never had,\n",
      "you have to do something you never did\n",
      "because the chances you take,\n",
      "the people you meet,\n",
      "the people you love,\n",
      "the faith that you have,\n",
      "that’s what’s going to define you.\n",
      "I found that nothing in life\n",
      "is worthwhile\n",
      "unless you take risks.\n",
      "Nothing.\n",
      "Nelson Mandela said,\n",
      "“There is no passion to be found\n",
      "playing small\n",
      "and settling for a life that’s less\n",
      "than the one you’re capable of living.”\n",
      "Now, I’m sure in your experiences\n",
      "in school and applying to college\n",
      "and picking your major and deciding\n",
      "what you want to do with life,\n",
      "I’m sure people have told you\n",
      "to make sure you have something\n",
      "to fall back on.\n",
      "Make sure you got something\n",
      "to fall back on, honey.\n",
      "But I never understood that concept,\n",
      "having something to fall back on.\n",
      "If I’m going to fall,\n",
      "I don’t want to fall back on anything\n",
      "I want to fall forward.\n",
      "I figure at least this way,\n",
      "I’ll see what I’m going to hit.\n",
      "Fall forward.\n",
      "This is what I mean.\n",
      "Reggie Jackson struck out\n",
      "2,600 times in his career,\n",
      "the most in the history of baseball,\n",
      "but you don’t hear about the strikeouts.\n",
      "People remember the home runs.\n",
      "Fall forward.\n",
      "Thomas Edison conducted\n",
      "1000 failed experiments.\n",
      "Did you know that?\n",
      "I didn’t know that.\n",
      "Because the 1001st was the light bulb.\n",
      "Fall forward.\n",
      "Fail big\n",
      "Today is the beginning\n",
      "of the rest of your life\n",
      "and it can be- it's going to be very frightening.\n",
      "It's a new world out there,\n",
      "and it's a mean world out there,\n",
      "and you only live once.\n",
      "So do what you feel passionate about.\n",
      "Take chances,\n",
      "professionally.\n",
      "Don’t be afraid to go outside the box.\n",
      "Don’t be afraid to\n",
      "think outside the box.\n",
      "Don’t be afraid to fail big,\n",
      "to dream big\n",
      "but remember\n",
      "dreams\n",
      "without goals\n",
      "are just dreams\n",
      "and they ultimately fuel\n",
      "disappointment.\n",
      "So have dreams,\n",
      "but have goals.\n",
      "Life goals,\n",
      "yearly goals,\n",
      "monthly goals, daily goals.\n",
      "I try to give myself a goal everyday.\n",
      "Sometimes just to not curse somebody out.\n",
      "Simple goals,\n",
      "but have goals\n",
      "and understand\n",
      "that to achieve these goals\n",
      "you must apply discipline\n",
      "and consistency.\n",
      "In order to achieve your goals,\n",
      "you must apply discipline,\n",
      "which you have already done.\n",
      "And consistency\n",
      "everyday not just on Tuesday\n",
      "and miss a few days.\n",
      "You have to work at it.\n",
      "Hard work\n",
      "works.\n",
      "You will never see a Uhaul\n",
      "behind a hearse.\n",
      "I don't care how much money you make,\n",
      "you can't take it with you.\n",
      "The Egyptians tried it\n",
      "they got robbed.\n",
      "That's all they got.\n",
      "You can't take it with you.\n",
      "And it's not how much you have.\n",
      "It's what you do\n",
      "with what you have.\n",
      "We all have different talents.\n",
      "Some of you will be doctors, some lawyers,\n",
      "some scientists, some educators,\n",
      "some nurses,\n",
      "some preachers.\n",
      "The most selfish thing\n",
      "you can do in this world\n",
      "is help someone else.\n",
      "Why is it selfish?\n",
      "Because the gratification,\n",
      "the goodness that comes to you,\n",
      "the good feeling.\n",
      "The good feeling that I get\n",
      "from helping others.\n",
      "Nothing is better than that.\n",
      "Well, one or two things but\n",
      "nothing is better than that not-\n",
      "not jewelry, not the big house I have,\n",
      "not the cars, but- the- the-\n",
      "it's the joy.\n",
      "That's where the joy is\n",
      "in helping others.\n",
      "That's where the success is.\n",
      "And anything you want,\n",
      "good\n",
      "you can have.\n",
      "So claim it.\n",
      "Work hard to get it.\n",
      "When you get it, reach back\n",
      "pull someone else up.\n",
      "Each one,\n",
      "teach one.\n",
      "Remember just because\n",
      "you’re doing a lot more\n",
      "doesn’t mean you’re getting\n",
      "a lot more done.\n",
      "Remember that,\n",
      "just because you’re doing a lot more\n",
      "doesn’t mean you’re getting a lot more\n",
      "done.\n",
      "Don’t confuse\n",
      "movement\n",
      "with progress.\n",
      "My mother told me, she said Yeah, yeah, cause you can run in place all the time\n",
      "and never get anywhere.\n",
      "So continue to strive,\n",
      "continue to have goals, continue to\n",
      "progress.\n"
     ]
    }
   ],
   "source": [
    "from youtube_transcript_api import YouTubeTranscriptApi\n",
    "\n",
    "def get_transcript(video_id):\n",
    "    transcript = YouTubeTranscriptApi.get_transcript(video_id)\n",
    "    for segment in transcript:\n",
    "        print(segment['text'])\n",
    "\n",
    "video_id = input(\"Enter the YouTube video ID: \")\n",
    "get_transcript(video_id)\n"
   ]
  },
  {
   "cell_type": "code",
   "execution_count": null,
   "id": "40e126c4",
   "metadata": {},
   "outputs": [],
   "source": []
  },
  {
   "cell_type": "code",
   "execution_count": null,
   "id": "f9a1f2cb",
   "metadata": {},
   "outputs": [],
   "source": []
  },
  {
   "cell_type": "code",
   "execution_count": null,
   "id": "01a4d6a6",
   "metadata": {},
   "outputs": [],
   "source": []
  },
  {
   "cell_type": "code",
   "execution_count": 2,
   "id": "086cd527-52e5-4d38-a41a-90d25661c3a4",
   "metadata": {},
   "outputs": [
    {
     "ename": "ZeroDivisionError",
     "evalue": "division by zero",
     "output_type": "error",
     "traceback": [
      "\u001b[0;31m---------------------------------------------------------------------------\u001b[0m",
      "\u001b[0;31mZeroDivisionError\u001b[0m                         Traceback (most recent call last)",
      "Cell \u001b[0;32mIn[2], line 1\u001b[0m\n\u001b[0;32m----> 1\u001b[0m \u001b[43ma\u001b[49m\u001b[38;5;241;43m/\u001b[39;49m\u001b[38;5;241;43m0\u001b[39;49m\n",
      "\u001b[0;31mZeroDivisionError\u001b[0m: division by zero"
     ]
    }
   ],
   "source": [
    "a/0"
   ]
  },
  {
   "cell_type": "code",
   "execution_count": 4,
   "id": "a3dde49f-d1f3-463a-9d32-1e5c74d37b7c",
   "metadata": {},
   "outputs": [
    {
     "ename": "FileNotFoundError",
     "evalue": "[Errno 2] No such file or directory: 'test.txt'",
     "output_type": "error",
     "traceback": [
      "\u001b[0;31m---------------------------------------------------------------------------\u001b[0m",
      "\u001b[0;31mFileNotFoundError\u001b[0m                         Traceback (most recent call last)",
      "Cell \u001b[0;32mIn[4], line 1\u001b[0m\n\u001b[0;32m----> 1\u001b[0m f \u001b[38;5;241m=\u001b[39m \u001b[38;5;28;43mopen\u001b[39;49m\u001b[43m(\u001b[49m\u001b[38;5;124;43m\"\u001b[39;49m\u001b[38;5;124;43mtest.txt\u001b[39;49m\u001b[38;5;124;43m\"\u001b[39;49m\u001b[43m \u001b[49m\u001b[43m,\u001b[49m\u001b[43m \u001b[49m\u001b[38;5;124;43m'\u001b[39;49m\u001b[38;5;124;43mr\u001b[39;49m\u001b[38;5;124;43m'\u001b[39;49m\u001b[43m)\u001b[49m\n\u001b[1;32m      2\u001b[0m \u001b[38;5;28mprint\u001b[39m(\u001b[38;5;124m\"\u001b[39m\u001b[38;5;124mthis is my print\u001b[39m\u001b[38;5;124m\"\u001b[39m)\n",
      "File \u001b[0;32m/opt/conda/lib/python3.10/site-packages/IPython/core/interactiveshell.py:282\u001b[0m, in \u001b[0;36m_modified_open\u001b[0;34m(file, *args, **kwargs)\u001b[0m\n\u001b[1;32m    275\u001b[0m \u001b[38;5;28;01mif\u001b[39;00m file \u001b[38;5;129;01min\u001b[39;00m {\u001b[38;5;241m0\u001b[39m, \u001b[38;5;241m1\u001b[39m, \u001b[38;5;241m2\u001b[39m}:\n\u001b[1;32m    276\u001b[0m     \u001b[38;5;28;01mraise\u001b[39;00m \u001b[38;5;167;01mValueError\u001b[39;00m(\n\u001b[1;32m    277\u001b[0m         \u001b[38;5;124mf\u001b[39m\u001b[38;5;124m\"\u001b[39m\u001b[38;5;124mIPython won\u001b[39m\u001b[38;5;124m'\u001b[39m\u001b[38;5;124mt let you open fd=\u001b[39m\u001b[38;5;132;01m{\u001b[39;00mfile\u001b[38;5;132;01m}\u001b[39;00m\u001b[38;5;124m by default \u001b[39m\u001b[38;5;124m\"\u001b[39m\n\u001b[1;32m    278\u001b[0m         \u001b[38;5;124m\"\u001b[39m\u001b[38;5;124mas it is likely to crash IPython. If you know what you are doing, \u001b[39m\u001b[38;5;124m\"\u001b[39m\n\u001b[1;32m    279\u001b[0m         \u001b[38;5;124m\"\u001b[39m\u001b[38;5;124myou can use builtins\u001b[39m\u001b[38;5;124m'\u001b[39m\u001b[38;5;124m open.\u001b[39m\u001b[38;5;124m\"\u001b[39m\n\u001b[1;32m    280\u001b[0m     )\n\u001b[0;32m--> 282\u001b[0m \u001b[38;5;28;01mreturn\u001b[39;00m \u001b[43mio_open\u001b[49m\u001b[43m(\u001b[49m\u001b[43mfile\u001b[49m\u001b[43m,\u001b[49m\u001b[43m \u001b[49m\u001b[38;5;241;43m*\u001b[39;49m\u001b[43margs\u001b[49m\u001b[43m,\u001b[49m\u001b[43m \u001b[49m\u001b[38;5;241;43m*\u001b[39;49m\u001b[38;5;241;43m*\u001b[39;49m\u001b[43mkwargs\u001b[49m\u001b[43m)\u001b[49m\n",
      "\u001b[0;31mFileNotFoundError\u001b[0m: [Errno 2] No such file or directory: 'test.txt'"
     ]
    }
   ],
   "source": [
    "f = open(\"test.txt\" , 'r')\n",
    "print(\"this is my print\")"
   ]
  },
  {
   "cell_type": "code",
   "execution_count": 1,
   "id": "ebe960ec-71e5-4651-b2af-1995550fbba0",
   "metadata": {},
   "outputs": [
    {
     "name": "stdout",
     "output_type": "stream",
     "text": [
      "there is some issue with my code  [Errno 2] No such file or directory: 'test.txt'\n",
      "this is my print\n"
     ]
    },
    {
     "data": {
      "text/plain": [
       "10"
      ]
     },
     "execution_count": 1,
     "metadata": {},
     "output_type": "execute_result"
    }
   ],
   "source": [
    "try:\n",
    "    f = open(\"test.txt\" , 'r')\n",
    "except Exception as e :\n",
    "    print(\"there is some issue with my code \", e)\n",
    "print(\"this is my print\")\n",
    "a = 10\n",
    "a"
   ]
  },
  {
   "cell_type": "code",
   "execution_count": 2,
   "id": "33fb794f-e617-49df-8472-154433e9a7e1",
   "metadata": {},
   "outputs": [
    {
     "name": "stdout",
     "output_type": "stream",
     "text": [
      "this block will execute once try will execute itself without an exception\n"
     ]
    }
   ],
   "source": [
    "try:\n",
    "    f = open(\"test.txt\" , 'w')\n",
    "    f.write(\"this is my msg\")\n",
    "\n",
    "except Exception as e :\n",
    "    print(\"there is some issue with my code \", e)\n",
    "else : \n",
    "        f.close()\n",
    "        print(\"this block will execute once try will execute itself without an exception\")"
   ]
  },
  {
   "cell_type": "code",
   "execution_count": 3,
   "id": "3280b2ef-2073-4723-87d4-ddc343ef7530",
   "metadata": {},
   "outputs": [
    {
     "name": "stdout",
     "output_type": "stream",
     "text": [
      "there is some issue with my code  [Errno 2] No such file or directory: 'test1.txt'\n"
     ]
    }
   ],
   "source": [
    "try:\n",
    "    f = open(\"test1.txt\" , 'r')\n",
    "    f.write(\"this is my msg\")\n",
    "\n",
    "except Exception as e :\n",
    "    print(\"there is some issue with my code \", e)\n",
    "else : \n",
    "        f.close()\n",
    "        print(\"this block will execute once try will execute itself without an exception\")"
   ]
  },
  {
   "cell_type": "code",
   "execution_count": 4,
   "id": "0c14500a-f8b1-4d14-b98a-09063cae6962",
   "metadata": {},
   "outputs": [
    {
     "name": "stdout",
     "output_type": "stream",
     "text": [
      "this will always execute\n"
     ]
    },
    {
     "ename": "FileNotFoundError",
     "evalue": "[Errno 2] No such file or directory: 'test1.txt'",
     "output_type": "error",
     "traceback": [
      "\u001b[1;31m---------------------------------------------------------------------------\u001b[0m",
      "\u001b[1;31mFileNotFoundError\u001b[0m                         Traceback (most recent call last)",
      "\u001b[1;32md:\\Python and Sql Jupyter Notes(anuragraiofficial321)\\Functions\\ExceptionHandling\\Exceptions Handling With Try-Except Eng.ipynb Cell 7\u001b[0m line \u001b[0;36m2\n\u001b[0;32m      <a href='vscode-notebook-cell:/d%3A/Python%20and%20Sql%20Jupyter%20Notes%28anuragraiofficial321%29/Functions/ExceptionHandling/Exceptions%20Handling%20With%20Try-Except%20Eng.ipynb#W6sZmlsZQ%3D%3D?line=0'>1</a>\u001b[0m \u001b[39mtry\u001b[39;00m:\n\u001b[1;32m----> <a href='vscode-notebook-cell:/d%3A/Python%20and%20Sql%20Jupyter%20Notes%28anuragraiofficial321%29/Functions/ExceptionHandling/Exceptions%20Handling%20With%20Try-Except%20Eng.ipynb#W6sZmlsZQ%3D%3D?line=1'>2</a>\u001b[0m     f \u001b[39m=\u001b[39m \u001b[39mopen\u001b[39;49m(\u001b[39m\"\u001b[39;49m\u001b[39mtest1.txt\u001b[39;49m\u001b[39m\"\u001b[39;49m , \u001b[39m'\u001b[39;49m\u001b[39mr\u001b[39;49m\u001b[39m'\u001b[39;49m)\n\u001b[0;32m      <a href='vscode-notebook-cell:/d%3A/Python%20and%20Sql%20Jupyter%20Notes%28anuragraiofficial321%29/Functions/ExceptionHandling/Exceptions%20Handling%20With%20Try-Except%20Eng.ipynb#W6sZmlsZQ%3D%3D?line=2'>3</a>\u001b[0m     f\u001b[39m.\u001b[39mwrite(\u001b[39m\"\u001b[39m\u001b[39mthis is my msg\u001b[39m\u001b[39m\"\u001b[39m)\n\u001b[0;32m      <a href='vscode-notebook-cell:/d%3A/Python%20and%20Sql%20Jupyter%20Notes%28anuragraiofficial321%29/Functions/ExceptionHandling/Exceptions%20Handling%20With%20Try-Except%20Eng.ipynb#W6sZmlsZQ%3D%3D?line=3'>4</a>\u001b[0m \u001b[39mfinally\u001b[39;00m :\n",
      "File \u001b[1;32mc:\\Users\\raian\\anaconda3\\Lib\\site-packages\\IPython\\core\\interactiveshell.py:284\u001b[0m, in \u001b[0;36m_modified_open\u001b[1;34m(file, *args, **kwargs)\u001b[0m\n\u001b[0;32m    277\u001b[0m \u001b[39mif\u001b[39;00m file \u001b[39min\u001b[39;00m {\u001b[39m0\u001b[39m, \u001b[39m1\u001b[39m, \u001b[39m2\u001b[39m}:\n\u001b[0;32m    278\u001b[0m     \u001b[39mraise\u001b[39;00m \u001b[39mValueError\u001b[39;00m(\n\u001b[0;32m    279\u001b[0m         \u001b[39mf\u001b[39m\u001b[39m\"\u001b[39m\u001b[39mIPython won\u001b[39m\u001b[39m'\u001b[39m\u001b[39mt let you open fd=\u001b[39m\u001b[39m{\u001b[39;00mfile\u001b[39m}\u001b[39;00m\u001b[39m by default \u001b[39m\u001b[39m\"\u001b[39m\n\u001b[0;32m    280\u001b[0m         \u001b[39m\"\u001b[39m\u001b[39mas it is likely to crash IPython. If you know what you are doing, \u001b[39m\u001b[39m\"\u001b[39m\n\u001b[0;32m    281\u001b[0m         \u001b[39m\"\u001b[39m\u001b[39myou can use builtins\u001b[39m\u001b[39m'\u001b[39m\u001b[39m open.\u001b[39m\u001b[39m\"\u001b[39m\n\u001b[0;32m    282\u001b[0m     )\n\u001b[1;32m--> 284\u001b[0m \u001b[39mreturn\u001b[39;00m io_open(file, \u001b[39m*\u001b[39;49margs, \u001b[39m*\u001b[39;49m\u001b[39m*\u001b[39;49mkwargs)\n",
      "\u001b[1;31mFileNotFoundError\u001b[0m: [Errno 2] No such file or directory: 'test1.txt'"
     ]
    }
   ],
   "source": [
    "try:\n",
    "    f = open(\"test1.txt\" , 'r')\n",
    "    f.write(\"this is my msg\")\n",
    "finally :\n",
    "    print(\"this will always execute\")"
   ]
  },
  {
   "cell_type": "code",
   "execution_count": 16,
   "id": "404c6c5e-0d92-45ac-8482-ada8e92b9f27",
   "metadata": {},
   "outputs": [
    {
     "name": "stdout",
     "output_type": "stream",
     "text": [
      "there is some issue with my code  [Errno 2] No such file or directory: 'test1.txt'\n",
      "i will execute always \n"
     ]
    }
   ],
   "source": [
    "try:\n",
    "    f = open(\"test1.txt\" , 'r')\n",
    "    f.write(\"this is my msg\")\n",
    "\n",
    "except Exception as e :\n",
    "    print(\"there is some issue with my code \", e)\n",
    "else : \n",
    "        f.close()\n",
    "        print(\"this block will execute once try will execute itself without an exception\")\n",
    "        \n",
    "finally :\n",
    "    \n",
    "    print(\"i will execute always \")"
   ]
  },
  {
   "cell_type": "code",
   "execution_count": 17,
   "id": "848b0ecd-dcde-4585-889d-af0a91151436",
   "metadata": {},
   "outputs": [
    {
     "name": "stdout",
     "output_type": "stream",
     "text": [
      "this block will execute once try will execute itself without an exception\n",
      "i will execute always \n"
     ]
    }
   ],
   "source": [
    "try:\n",
    "    f = open(\"test1.txt\" , 'w')\n",
    "    f.write(\"this is my msg\")\n",
    "\n",
    "except Exception as e :\n",
    "    print(\"there is some issue with my code \", e)\n",
    "else : \n",
    "        f.close()\n",
    "        print(\"this block will execute once try will execute itself without an exception\")\n",
    "        \n",
    "finally :\n",
    "    \n",
    "    print(\"i will execute always \")"
   ]
  },
  {
   "cell_type": "code",
   "execution_count": null,
   "id": "420d9565-761b-40e0-859d-981ab54c976b",
   "metadata": {},
   "outputs": [],
   "source": []
  }
 ],
 "metadata": {
  "kernelspec": {
   "display_name": "Python 3 (ipykernel)",
   "language": "python",
   "name": "python3"
  },
  "language_info": {
   "codemirror_mode": {
    "name": "ipython",
    "version": 3
   },
   "file_extension": ".py",
   "mimetype": "text/x-python",
   "name": "python",
   "nbconvert_exporter": "python",
   "pygments_lexer": "ipython3",
   "version": "3.11.4"
  }
 },
 "nbformat": 4,
 "nbformat_minor": 5
}
